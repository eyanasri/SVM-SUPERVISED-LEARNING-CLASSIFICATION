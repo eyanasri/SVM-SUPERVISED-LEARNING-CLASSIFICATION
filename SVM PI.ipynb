{
 "cells": [
  {
   "cell_type": "code",
   "execution_count": 9,
   "metadata": {
    "executionInfo": {
     "elapsed": 3596,
     "status": "ok",
     "timestamp": 1620085872367,
     "user": {
      "displayName": "Hadil OKKEZ",
      "photoUrl": "https://lh3.googleusercontent.com/a-/AOh14GhwvV3WNOQWNm7DSeXYzO-e2XSdtsdataGSZ7ChAA=s64",
      "userId": "10458114176938283464"
     },
     "user_tz": -120
    },
    "id": "MXHtEMvJmtPv"
   },
   "outputs": [],
   "source": [
    "#Importer les librairies necessaires:\n",
    "import pandas as pd\n",
    "import numpy as np\n",
    "import matplotlib.pyplot as plt\n",
    "from sklearn.svm import SVC\n",
    "import warnings\n",
    "warnings.filterwarnings(\"ignore\")\n",
    "from sklearn.model_selection import train_test_split"
   ]
  },
  {
   "cell_type": "code",
   "execution_count": 10,
   "metadata": {
    "colab": {
     "base_uri": "https://localhost:8080/",
     "height": 204
    },
    "executionInfo": {
     "elapsed": 1111,
     "status": "ok",
     "timestamp": 1620085892539,
     "user": {
      "displayName": "Hadil OKKEZ",
      "photoUrl": "https://lh3.googleusercontent.com/a-/AOh14GhwvV3WNOQWNm7DSeXYzO-e2XSdtsdataGSZ7ChAA=s64",
      "userId": "10458114176938283464"
     },
     "user_tz": -120
    },
    "id": "6m-T1e96mtPz",
    "outputId": "6a5f99ca-f6ed-45b9-b55b-18350370ce29"
   },
   "outputs": [
    {
     "data": {
      "text/html": [
       "<div>\n",
       "<style scoped>\n",
       "    .dataframe tbody tr th:only-of-type {\n",
       "        vertical-align: middle;\n",
       "    }\n",
       "\n",
       "    .dataframe tbody tr th {\n",
       "        vertical-align: top;\n",
       "    }\n",
       "\n",
       "    .dataframe thead th {\n",
       "        text-align: right;\n",
       "    }\n",
       "</style>\n",
       "<table border=\"1\" class=\"dataframe\">\n",
       "  <thead>\n",
       "    <tr style=\"text-align: right;\">\n",
       "      <th></th>\n",
       "      <th>Unnamed: 0</th>\n",
       "      <th>Date Announced</th>\n",
       "      <th>Age Bracket</th>\n",
       "      <th>Age</th>\n",
       "      <th>Gender</th>\n",
       "      <th>Current Status</th>\n",
       "      <th>Type of trans</th>\n",
       "      <th>Nationality</th>\n",
       "      <th>Symptoms</th>\n",
       "      <th>JobLoss</th>\n",
       "      <th>FinancialSituation</th>\n",
       "      <th>Diseases</th>\n",
       "      <th>Profession</th>\n",
       "      <th>CovidAfterVaccin</th>\n",
       "      <th>Vaccinated</th>\n",
       "      <th>Reason</th>\n",
       "    </tr>\n",
       "  </thead>\n",
       "  <tbody>\n",
       "    <tr>\n",
       "      <th>0</th>\n",
       "      <td>0</td>\n",
       "      <td>1/30/2020</td>\n",
       "      <td>0</td>\n",
       "      <td>1.0</td>\n",
       "      <td>0</td>\n",
       "      <td>1</td>\n",
       "      <td>1</td>\n",
       "      <td>India</td>\n",
       "      <td>1</td>\n",
       "      <td>2</td>\n",
       "      <td>1</td>\n",
       "      <td>4</td>\n",
       "      <td>1</td>\n",
       "      <td>0</td>\n",
       "      <td>1</td>\n",
       "      <td>0.0</td>\n",
       "    </tr>\n",
       "    <tr>\n",
       "      <th>1</th>\n",
       "      <td>1</td>\n",
       "      <td>2/2/2020</td>\n",
       "      <td>0</td>\n",
       "      <td>1.0</td>\n",
       "      <td>1</td>\n",
       "      <td>1</td>\n",
       "      <td>1</td>\n",
       "      <td>India</td>\n",
       "      <td>5</td>\n",
       "      <td>0</td>\n",
       "      <td>0</td>\n",
       "      <td>4</td>\n",
       "      <td>2</td>\n",
       "      <td>1</td>\n",
       "      <td>1</td>\n",
       "      <td>0.0</td>\n",
       "    </tr>\n",
       "    <tr>\n",
       "      <th>2</th>\n",
       "      <td>2</td>\n",
       "      <td>2/3/2020</td>\n",
       "      <td>0</td>\n",
       "      <td>1.0</td>\n",
       "      <td>1</td>\n",
       "      <td>1</td>\n",
       "      <td>1</td>\n",
       "      <td>India</td>\n",
       "      <td>1</td>\n",
       "      <td>2</td>\n",
       "      <td>1</td>\n",
       "      <td>4</td>\n",
       "      <td>1</td>\n",
       "      <td>0</td>\n",
       "      <td>1</td>\n",
       "      <td>0.0</td>\n",
       "    </tr>\n",
       "    <tr>\n",
       "      <th>3</th>\n",
       "      <td>3</td>\n",
       "      <td>3/2/2020</td>\n",
       "      <td>0</td>\n",
       "      <td>1.0</td>\n",
       "      <td>1</td>\n",
       "      <td>1</td>\n",
       "      <td>1</td>\n",
       "      <td>India</td>\n",
       "      <td>2</td>\n",
       "      <td>2</td>\n",
       "      <td>0</td>\n",
       "      <td>2</td>\n",
       "      <td>1</td>\n",
       "      <td>0</td>\n",
       "      <td>0</td>\n",
       "      <td>2.0</td>\n",
       "    </tr>\n",
       "    <tr>\n",
       "      <th>4</th>\n",
       "      <td>4</td>\n",
       "      <td>3/2/2020</td>\n",
       "      <td>0</td>\n",
       "      <td>1.0</td>\n",
       "      <td>1</td>\n",
       "      <td>1</td>\n",
       "      <td>1</td>\n",
       "      <td>India</td>\n",
       "      <td>2</td>\n",
       "      <td>0</td>\n",
       "      <td>1</td>\n",
       "      <td>4</td>\n",
       "      <td>2</td>\n",
       "      <td>0</td>\n",
       "      <td>0</td>\n",
       "      <td>4.0</td>\n",
       "    </tr>\n",
       "  </tbody>\n",
       "</table>\n",
       "</div>"
      ],
      "text/plain": [
       "   Unnamed: 0 Date Announced  Age Bracket  Age  Gender  Current Status  \\\n",
       "0           0      1/30/2020            0  1.0       0               1   \n",
       "1           1       2/2/2020            0  1.0       1               1   \n",
       "2           2       2/3/2020            0  1.0       1               1   \n",
       "3           3       3/2/2020            0  1.0       1               1   \n",
       "4           4       3/2/2020            0  1.0       1               1   \n",
       "\n",
       "   Type of trans Nationality  Symptoms  JobLoss  FinancialSituation  Diseases  \\\n",
       "0              1       India         1        2                   1         4   \n",
       "1              1       India         5        0                   0         4   \n",
       "2              1       India         1        2                   1         4   \n",
       "3              1       India         2        2                   0         2   \n",
       "4              1       India         2        0                   1         4   \n",
       "\n",
       "   Profession  CovidAfterVaccin  Vaccinated  Reason  \n",
       "0           1                 0           1     0.0  \n",
       "1           2                 1           1     0.0  \n",
       "2           1                 0           1     0.0  \n",
       "3           1                 0           0     2.0  \n",
       "4           2                 0           0     4.0  "
      ]
     },
     "execution_count": 10,
     "metadata": {},
     "output_type": "execute_result"
    }
   ],
   "source": [
    "#Importer le dataset \"BilletsBanque\"\n",
    "data = pd.read_csv('DimPatientCoded.csv')\n",
    "data.head()"
   ]
  },
  {
   "cell_type": "code",
   "execution_count": 11,
   "metadata": {},
   "outputs": [
    {
     "data": {
      "text/html": [
       "<div>\n",
       "<style scoped>\n",
       "    .dataframe tbody tr th:only-of-type {\n",
       "        vertical-align: middle;\n",
       "    }\n",
       "\n",
       "    .dataframe tbody tr th {\n",
       "        vertical-align: top;\n",
       "    }\n",
       "\n",
       "    .dataframe thead th {\n",
       "        text-align: right;\n",
       "    }\n",
       "</style>\n",
       "<table border=\"1\" class=\"dataframe\">\n",
       "  <thead>\n",
       "    <tr style=\"text-align: right;\">\n",
       "      <th></th>\n",
       "      <th>Age Bracket</th>\n",
       "      <th>Age</th>\n",
       "      <th>Gender</th>\n",
       "      <th>Current Status</th>\n",
       "      <th>Type of trans</th>\n",
       "      <th>Symptoms</th>\n",
       "      <th>JobLoss</th>\n",
       "      <th>FinancialSituation</th>\n",
       "      <th>Diseases</th>\n",
       "      <th>Profession</th>\n",
       "      <th>CovidAfterVaccin</th>\n",
       "      <th>Vaccinated</th>\n",
       "      <th>Reason</th>\n",
       "    </tr>\n",
       "  </thead>\n",
       "  <tbody>\n",
       "    <tr>\n",
       "      <th>0</th>\n",
       "      <td>0</td>\n",
       "      <td>1.0</td>\n",
       "      <td>0</td>\n",
       "      <td>1</td>\n",
       "      <td>1</td>\n",
       "      <td>1</td>\n",
       "      <td>2</td>\n",
       "      <td>1</td>\n",
       "      <td>4</td>\n",
       "      <td>1</td>\n",
       "      <td>0</td>\n",
       "      <td>1</td>\n",
       "      <td>0.0</td>\n",
       "    </tr>\n",
       "    <tr>\n",
       "      <th>1</th>\n",
       "      <td>0</td>\n",
       "      <td>1.0</td>\n",
       "      <td>1</td>\n",
       "      <td>1</td>\n",
       "      <td>1</td>\n",
       "      <td>5</td>\n",
       "      <td>0</td>\n",
       "      <td>0</td>\n",
       "      <td>4</td>\n",
       "      <td>2</td>\n",
       "      <td>1</td>\n",
       "      <td>1</td>\n",
       "      <td>0.0</td>\n",
       "    </tr>\n",
       "    <tr>\n",
       "      <th>2</th>\n",
       "      <td>0</td>\n",
       "      <td>1.0</td>\n",
       "      <td>1</td>\n",
       "      <td>1</td>\n",
       "      <td>1</td>\n",
       "      <td>1</td>\n",
       "      <td>2</td>\n",
       "      <td>1</td>\n",
       "      <td>4</td>\n",
       "      <td>1</td>\n",
       "      <td>0</td>\n",
       "      <td>1</td>\n",
       "      <td>0.0</td>\n",
       "    </tr>\n",
       "    <tr>\n",
       "      <th>3</th>\n",
       "      <td>0</td>\n",
       "      <td>1.0</td>\n",
       "      <td>1</td>\n",
       "      <td>1</td>\n",
       "      <td>1</td>\n",
       "      <td>2</td>\n",
       "      <td>2</td>\n",
       "      <td>0</td>\n",
       "      <td>2</td>\n",
       "      <td>1</td>\n",
       "      <td>0</td>\n",
       "      <td>0</td>\n",
       "      <td>2.0</td>\n",
       "    </tr>\n",
       "    <tr>\n",
       "      <th>4</th>\n",
       "      <td>0</td>\n",
       "      <td>1.0</td>\n",
       "      <td>1</td>\n",
       "      <td>1</td>\n",
       "      <td>1</td>\n",
       "      <td>2</td>\n",
       "      <td>0</td>\n",
       "      <td>1</td>\n",
       "      <td>4</td>\n",
       "      <td>2</td>\n",
       "      <td>0</td>\n",
       "      <td>0</td>\n",
       "      <td>4.0</td>\n",
       "    </tr>\n",
       "    <tr>\n",
       "      <th>...</th>\n",
       "      <td>...</td>\n",
       "      <td>...</td>\n",
       "      <td>...</td>\n",
       "      <td>...</td>\n",
       "      <td>...</td>\n",
       "      <td>...</td>\n",
       "      <td>...</td>\n",
       "      <td>...</td>\n",
       "      <td>...</td>\n",
       "      <td>...</td>\n",
       "      <td>...</td>\n",
       "      <td>...</td>\n",
       "      <td>...</td>\n",
       "    </tr>\n",
       "    <tr>\n",
       "      <th>247231</th>\n",
       "      <td>0</td>\n",
       "      <td>1.0</td>\n",
       "      <td>1</td>\n",
       "      <td>1</td>\n",
       "      <td>0</td>\n",
       "      <td>2</td>\n",
       "      <td>2</td>\n",
       "      <td>0</td>\n",
       "      <td>4</td>\n",
       "      <td>1</td>\n",
       "      <td>1</td>\n",
       "      <td>1</td>\n",
       "      <td>0.0</td>\n",
       "    </tr>\n",
       "    <tr>\n",
       "      <th>247232</th>\n",
       "      <td>0</td>\n",
       "      <td>1.0</td>\n",
       "      <td>1</td>\n",
       "      <td>1</td>\n",
       "      <td>0</td>\n",
       "      <td>5</td>\n",
       "      <td>2</td>\n",
       "      <td>0</td>\n",
       "      <td>2</td>\n",
       "      <td>1</td>\n",
       "      <td>0</td>\n",
       "      <td>0</td>\n",
       "      <td>5.0</td>\n",
       "    </tr>\n",
       "    <tr>\n",
       "      <th>247233</th>\n",
       "      <td>0</td>\n",
       "      <td>1.0</td>\n",
       "      <td>1</td>\n",
       "      <td>1</td>\n",
       "      <td>0</td>\n",
       "      <td>5</td>\n",
       "      <td>0</td>\n",
       "      <td>1</td>\n",
       "      <td>2</td>\n",
       "      <td>2</td>\n",
       "      <td>0</td>\n",
       "      <td>0</td>\n",
       "      <td>2.0</td>\n",
       "    </tr>\n",
       "    <tr>\n",
       "      <th>247234</th>\n",
       "      <td>0</td>\n",
       "      <td>1.0</td>\n",
       "      <td>1</td>\n",
       "      <td>1</td>\n",
       "      <td>0</td>\n",
       "      <td>5</td>\n",
       "      <td>0</td>\n",
       "      <td>1</td>\n",
       "      <td>2</td>\n",
       "      <td>2</td>\n",
       "      <td>0</td>\n",
       "      <td>1</td>\n",
       "      <td>0.0</td>\n",
       "    </tr>\n",
       "    <tr>\n",
       "      <th>247235</th>\n",
       "      <td>0</td>\n",
       "      <td>1.0</td>\n",
       "      <td>1</td>\n",
       "      <td>1</td>\n",
       "      <td>0</td>\n",
       "      <td>1</td>\n",
       "      <td>2</td>\n",
       "      <td>1</td>\n",
       "      <td>4</td>\n",
       "      <td>1</td>\n",
       "      <td>0</td>\n",
       "      <td>0</td>\n",
       "      <td>3.0</td>\n",
       "    </tr>\n",
       "  </tbody>\n",
       "</table>\n",
       "<p>247236 rows × 13 columns</p>\n",
       "</div>"
      ],
      "text/plain": [
       "        Age Bracket  Age  Gender  Current Status  Type of trans  Symptoms  \\\n",
       "0                 0  1.0       0               1              1         1   \n",
       "1                 0  1.0       1               1              1         5   \n",
       "2                 0  1.0       1               1              1         1   \n",
       "3                 0  1.0       1               1              1         2   \n",
       "4                 0  1.0       1               1              1         2   \n",
       "...             ...  ...     ...             ...            ...       ...   \n",
       "247231            0  1.0       1               1              0         2   \n",
       "247232            0  1.0       1               1              0         5   \n",
       "247233            0  1.0       1               1              0         5   \n",
       "247234            0  1.0       1               1              0         5   \n",
       "247235            0  1.0       1               1              0         1   \n",
       "\n",
       "        JobLoss  FinancialSituation  Diseases  Profession  CovidAfterVaccin  \\\n",
       "0             2                   1         4           1                 0   \n",
       "1             0                   0         4           2                 1   \n",
       "2             2                   1         4           1                 0   \n",
       "3             2                   0         2           1                 0   \n",
       "4             0                   1         4           2                 0   \n",
       "...         ...                 ...       ...         ...               ...   \n",
       "247231        2                   0         4           1                 1   \n",
       "247232        2                   0         2           1                 0   \n",
       "247233        0                   1         2           2                 0   \n",
       "247234        0                   1         2           2                 0   \n",
       "247235        2                   1         4           1                 0   \n",
       "\n",
       "        Vaccinated  Reason  \n",
       "0                1     0.0  \n",
       "1                1     0.0  \n",
       "2                1     0.0  \n",
       "3                0     2.0  \n",
       "4                0     4.0  \n",
       "...            ...     ...  \n",
       "247231           1     0.0  \n",
       "247232           0     5.0  \n",
       "247233           0     2.0  \n",
       "247234           1     0.0  \n",
       "247235           0     3.0  \n",
       "\n",
       "[247236 rows x 13 columns]"
      ]
     },
     "execution_count": 11,
     "metadata": {},
     "output_type": "execute_result"
    }
   ],
   "source": [
    "del data['Unnamed: 0']\n",
    "del data['Date Announced']\n",
    "del data['Nationality']\n",
    "data"
   ]
  },
  {
   "cell_type": "code",
   "execution_count": 12,
   "metadata": {
    "colab": {
     "base_uri": "https://localhost:8080/"
    },
    "executionInfo": {
     "elapsed": 1172,
     "status": "ok",
     "timestamp": 1620085898742,
     "user": {
      "displayName": "Hadil OKKEZ",
      "photoUrl": "https://lh3.googleusercontent.com/a-/AOh14GhwvV3WNOQWNm7DSeXYzO-e2XSdtsdataGSZ7ChAA=s64",
      "userId": "10458114176938283464"
     },
     "user_tz": -120
    },
    "id": "0szZ_DdemtP3",
    "outputId": "85e86e45-1506-408a-a814-5a423a91ec29"
   },
   "outputs": [
    {
     "data": {
      "text/plain": [
       "(247236, 13)"
      ]
     },
     "execution_count": 12,
     "metadata": {},
     "output_type": "execute_result"
    }
   ],
   "source": [
    "#dimensions : nombre de lignes, nombre de colonnes\n",
    "data.shape"
   ]
  },
  {
   "cell_type": "code",
   "execution_count": 13,
   "metadata": {
    "colab": {
     "base_uri": "https://localhost:8080/"
    },
    "executionInfo": {
     "elapsed": 1843,
     "status": "ok",
     "timestamp": 1620085902014,
     "user": {
      "displayName": "Hadil OKKEZ",
      "photoUrl": "https://lh3.googleusercontent.com/a-/AOh14GhwvV3WNOQWNm7DSeXYzO-e2XSdtsdataGSZ7ChAA=s64",
      "userId": "10458114176938283464"
     },
     "user_tz": -120
    },
    "id": "NUnIX7BUmtP6",
    "outputId": "c986a8dc-1a05-45a3-f90f-e1247e81eac2",
    "scrolled": true
   },
   "outputs": [
    {
     "data": {
      "text/plain": [
       "Age Bracket           0\n",
       "Age                   0\n",
       "Gender                0\n",
       "Current Status        0\n",
       "Type of trans         0\n",
       "Symptoms              0\n",
       "JobLoss               0\n",
       "FinancialSituation    0\n",
       "Diseases              0\n",
       "Profession            0\n",
       "CovidAfterVaccin      0\n",
       "Vaccinated            0\n",
       "Reason                0\n",
       "dtype: int64"
      ]
     },
     "execution_count": 13,
     "metadata": {},
     "output_type": "execute_result"
    }
   ],
   "source": [
    "# Pas de valeurs manquantes\n",
    "data.isna().sum()"
   ]
  },
  {
   "cell_type": "code",
   "execution_count": 14,
   "metadata": {},
   "outputs": [
    {
     "data": {
      "text/html": [
       "<div>\n",
       "<style scoped>\n",
       "    .dataframe tbody tr th:only-of-type {\n",
       "        vertical-align: middle;\n",
       "    }\n",
       "\n",
       "    .dataframe tbody tr th {\n",
       "        vertical-align: top;\n",
       "    }\n",
       "\n",
       "    .dataframe thead th {\n",
       "        text-align: right;\n",
       "    }\n",
       "</style>\n",
       "<table border=\"1\" class=\"dataframe\">\n",
       "  <thead>\n",
       "    <tr style=\"text-align: right;\">\n",
       "      <th></th>\n",
       "      <th>Diseases</th>\n",
       "      <th>Vaccinated</th>\n",
       "      <th>Age Bracket</th>\n",
       "      <th>CovidAfterVaccin</th>\n",
       "    </tr>\n",
       "  </thead>\n",
       "  <tbody>\n",
       "    <tr>\n",
       "      <th>0</th>\n",
       "      <td>4</td>\n",
       "      <td>1</td>\n",
       "      <td>0</td>\n",
       "      <td>0</td>\n",
       "    </tr>\n",
       "    <tr>\n",
       "      <th>1</th>\n",
       "      <td>4</td>\n",
       "      <td>1</td>\n",
       "      <td>0</td>\n",
       "      <td>1</td>\n",
       "    </tr>\n",
       "    <tr>\n",
       "      <th>2</th>\n",
       "      <td>4</td>\n",
       "      <td>1</td>\n",
       "      <td>0</td>\n",
       "      <td>0</td>\n",
       "    </tr>\n",
       "    <tr>\n",
       "      <th>3</th>\n",
       "      <td>2</td>\n",
       "      <td>0</td>\n",
       "      <td>0</td>\n",
       "      <td>0</td>\n",
       "    </tr>\n",
       "    <tr>\n",
       "      <th>4</th>\n",
       "      <td>4</td>\n",
       "      <td>0</td>\n",
       "      <td>0</td>\n",
       "      <td>0</td>\n",
       "    </tr>\n",
       "    <tr>\n",
       "      <th>...</th>\n",
       "      <td>...</td>\n",
       "      <td>...</td>\n",
       "      <td>...</td>\n",
       "      <td>...</td>\n",
       "    </tr>\n",
       "    <tr>\n",
       "      <th>247231</th>\n",
       "      <td>4</td>\n",
       "      <td>1</td>\n",
       "      <td>0</td>\n",
       "      <td>1</td>\n",
       "    </tr>\n",
       "    <tr>\n",
       "      <th>247232</th>\n",
       "      <td>2</td>\n",
       "      <td>0</td>\n",
       "      <td>0</td>\n",
       "      <td>0</td>\n",
       "    </tr>\n",
       "    <tr>\n",
       "      <th>247233</th>\n",
       "      <td>2</td>\n",
       "      <td>0</td>\n",
       "      <td>0</td>\n",
       "      <td>0</td>\n",
       "    </tr>\n",
       "    <tr>\n",
       "      <th>247234</th>\n",
       "      <td>2</td>\n",
       "      <td>1</td>\n",
       "      <td>0</td>\n",
       "      <td>0</td>\n",
       "    </tr>\n",
       "    <tr>\n",
       "      <th>247235</th>\n",
       "      <td>4</td>\n",
       "      <td>0</td>\n",
       "      <td>0</td>\n",
       "      <td>0</td>\n",
       "    </tr>\n",
       "  </tbody>\n",
       "</table>\n",
       "<p>247236 rows × 4 columns</p>\n",
       "</div>"
      ],
      "text/plain": [
       "        Diseases  Vaccinated  Age Bracket  CovidAfterVaccin\n",
       "0              4           1            0                 0\n",
       "1              4           1            0                 1\n",
       "2              4           1            0                 0\n",
       "3              2           0            0                 0\n",
       "4              4           0            0                 0\n",
       "...          ...         ...          ...               ...\n",
       "247231         4           1            0                 1\n",
       "247232         2           0            0                 0\n",
       "247233         2           0            0                 0\n",
       "247234         2           1            0                 0\n",
       "247235         4           0            0                 0\n",
       "\n",
       "[247236 rows x 4 columns]"
      ]
     },
     "execution_count": 14,
     "metadata": {},
     "output_type": "execute_result"
    }
   ],
   "source": [
    "del data['Age']\n",
    "del data['Gender']\n",
    "del data['Current Status']\n",
    "del data['Type of trans']\n",
    "del data['Symptoms']\n",
    "del data['JobLoss']\n",
    "del data['FinancialSituation']\n",
    "del data['Profession']\n",
    "del data['Reason']\n",
    "\n",
    "data = data.reindex(columns=['Diseases','Vaccinated','Age Bracket','CovidAfterVaccin'])\n",
    "data"
   ]
  },
  {
   "cell_type": "code",
   "execution_count": 15,
   "metadata": {
    "executionInfo": {
     "elapsed": 776,
     "status": "ok",
     "timestamp": 1620085904234,
     "user": {
      "displayName": "Hadil OKKEZ",
      "photoUrl": "https://lh3.googleusercontent.com/a-/AOh14GhwvV3WNOQWNm7DSeXYzO-e2XSdtsdataGSZ7ChAA=s64",
      "userId": "10458114176938283464"
     },
     "user_tz": -120
    },
    "id": "dZc6aAOWmtP9"
   },
   "outputs": [],
   "source": [
    "X = data.drop(\"CovidAfterVaccin\", axis=1)\n",
    "y = data[\"CovidAfterVaccin\"]"
   ]
  },
  {
   "cell_type": "code",
   "execution_count": 16,
   "metadata": {
    "colab": {
     "base_uri": "https://localhost:8080/",
     "height": 743
    },
    "executionInfo": {
     "elapsed": 11259,
     "status": "ok",
     "timestamp": 1620085919933,
     "user": {
      "displayName": "Hadil OKKEZ",
      "photoUrl": "https://lh3.googleusercontent.com/a-/AOh14GhwvV3WNOQWNm7DSeXYzO-e2XSdtsdataGSZ7ChAA=s64",
      "userId": "10458114176938283464"
     },
     "user_tz": -120
    },
    "id": "qEqLI8fJmtQA",
    "outputId": "75d2b535-db10-4a6e-aa9e-8a57fb001e07"
   },
   "outputs": [
    {
     "data": {
      "text/plain": [
       "<seaborn.axisgrid.PairGrid at 0x22a5fbab400>"
      ]
     },
     "execution_count": 16,
     "metadata": {},
     "output_type": "execute_result"
    },
    {
     "data": {
      "image/png": "[encoded data removed]",
      "text/plain": [
       "<Figure size 632.625x540 with 12 Axes>"
      ]
     },
     "metadata": {
      "needs_background": "light"
     },
     "output_type": "display_data"
    }
   ],
   "source": [
    "import seaborn as sns\n",
    "sns.pairplot(data, hue=\"CovidAfterVaccin\")"
   ]
  },
  {
   "cell_type": "code",
   "execution_count": 17,
   "metadata": {
    "colab": {
     "base_uri": "https://localhost:8080/",
     "height": 378
    },
    "executionInfo": {
     "elapsed": 1166,
     "status": "ok",
     "timestamp": 1620085941616,
     "user": {
      "displayName": "Hadil OKKEZ",
      "photoUrl": "https://lh3.googleusercontent.com/a-/AOh14GhwvV3WNOQWNm7DSeXYzO-e2XSdtsdataGSZ7ChAA=s64",
      "userId": "10458114176938283464"
     },
     "user_tz": -120
    },
    "id": "HiFq7xe9mtQE",
    "outputId": "c24bfe06-bdd1-490c-c5ce-6b14c11eb1ce"
   },
   "outputs": [
    {
     "data": {
      "image/png": "[encoded data removed]",
      "text/plain": [
       "<Figure size 360x360 with 2 Axes>"
      ]
     },
     "metadata": {
      "needs_background": "light"
     },
     "output_type": "display_data"
    }
   ],
   "source": [
    "#Create Correlation matrix\n",
    "corr = data.corr()\n",
    "#Plot figsize\n",
    "fig, ax = plt.subplots(figsize=(5,5))\n",
    "#Generate Color Map\n",
    "colormap = sns.diverging_palette(220, 10, as_cmap=True)\n",
    "#Generate Heat Map, allow annotations and place floats in map\n",
    "sns.heatmap(corr, cmap=colormap, annot=True, fmt=\".2f\")\n",
    "#Apply xticks\n",
    "plt.xticks(range(len(corr.columns)), corr.columns);\n",
    "#Apply yticks\n",
    "plt.yticks(range(len(corr.columns)), corr.columns)\n",
    "#show plot\n",
    "plt.show()"
   ]
  },
  {
   "cell_type": "code",
   "execution_count": 18,
   "metadata": {
    "executionInfo": {
     "elapsed": 671,
     "status": "ok",
     "timestamp": 1620085945925,
     "user": {
      "displayName": "Hadil OKKEZ",
      "photoUrl": "https://lh3.googleusercontent.com/a-/AOh14GhwvV3WNOQWNm7DSeXYzO-e2XSdtsdataGSZ7ChAA=s64",
      "userId": "10458114176938283464"
     },
     "user_tz": -120
    },
    "id": "t1Y5e-blmtQG"
   },
   "outputs": [],
   "source": [
    "X_train, X_test, y_train, y_test = train_test_split(X, y, test_size=0.2, random_state=22)"
   ]
  },
  {
   "cell_type": "markdown",
   "metadata": {
    "id": "rhAe2qzXmtQJ"
   },
   "source": [
    "### Params par défaut"
   ]
  },
  {
   "cell_type": "code",
   "execution_count": 19,
   "metadata": {
    "colab": {
     "base_uri": "https://localhost:8080/"
    },
    "executionInfo": {
     "elapsed": 603,
     "status": "ok",
     "timestamp": 1620085948457,
     "user": {
      "displayName": "Hadil OKKEZ",
      "photoUrl": "https://lh3.googleusercontent.com/a-/AOh14GhwvV3WNOQWNm7DSeXYzO-e2XSdtsdataGSZ7ChAA=s64",
      "userId": "10458114176938283464"
     },
     "user_tz": -120
    },
    "id": "5caNyFrJmtQJ",
    "outputId": "891b13bf-9b30-48f3-c383-75fc15f00b15"
   },
   "outputs": [
    {
     "data": {
      "text/plain": [
       "SVC()"
      ]
     },
     "execution_count": 19,
     "metadata": {},
     "output_type": "execute_result"
    }
   ],
   "source": [
    "#Entrainer le modèle svm 12:46\n",
    "svm = SVC()\n",
    "svm.fit(X_train, y_train)"
   ]
  },
  {
   "cell_type": "code",
   "execution_count": 20,
   "metadata": {
    "colab": {
     "base_uri": "https://localhost:8080/"
    },
    "executionInfo": {
     "elapsed": 596,
     "status": "ok",
     "timestamp": 1620085954227,
     "user": {
      "displayName": "Hadil OKKEZ",
      "photoUrl": "https://lh3.googleusercontent.com/a-/AOh14GhwvV3WNOQWNm7DSeXYzO-e2XSdtsdataGSZ7ChAA=s64",
      "userId": "10458114176938283464"
     },
     "user_tz": -120
    },
    "id": "WG-rSHlcmtQP",
    "outputId": "ba1a02f0-d7a4-4f50-abc9-0b634ee9d942",
    "scrolled": true
   },
   "outputs": [
    {
     "name": "stdout",
     "output_type": "stream",
     "text": [
      "              precision    recall  f1-score   support\n",
      "\n",
      "           0       0.87      0.81      0.84     39379\n",
      "           1       0.41      0.51      0.45     10069\n",
      "\n",
      "    accuracy                           0.75     49448\n",
      "   macro avg       0.64      0.66      0.64     49448\n",
      "weighted avg       0.77      0.75      0.76     49448\n",
      "\n"
     ]
    }
   ],
   "source": [
    "from sklearn.metrics import classification_report\n",
    "y_pred_svc_1 = svm.predict(X_test)\n",
    "print(classification_report(y_pred_svc_1, y_test))"
   ]
  },
  {
   "cell_type": "markdown",
   "metadata": {
    "id": "kJuBCm2qmtQS"
   },
   "source": [
    "### Noyeau linéaire"
   ]
  },
  {
   "cell_type": "code",
   "execution_count": 21,
   "metadata": {
    "colab": {
     "base_uri": "https://localhost:8080/"
    },
    "executionInfo": {
     "elapsed": 824,
     "status": "ok",
     "timestamp": 1620085959429,
     "user": {
      "displayName": "Hadil OKKEZ",
      "photoUrl": "https://lh3.googleusercontent.com/a-/AOh14GhwvV3WNOQWNm7DSeXYzO-e2XSdtsdataGSZ7ChAA=s64",
      "userId": "10458114176938283464"
     },
     "user_tz": -120
    },
    "id": "mkFPlHIsmtQS",
    "outputId": "0e12b352-ddc9-4a6d-d62d-c126f2c67398",
    "scrolled": false
   },
   "outputs": [
    {
     "name": "stdout",
     "output_type": "stream",
     "text": [
      "              precision    recall  f1-score   support\n",
      "\n",
      "           0       1.00      0.75      0.85     49448\n",
      "           1       0.00      0.00      0.00         0\n",
      "\n",
      "    accuracy                           0.75     49448\n",
      "   macro avg       0.50      0.37      0.43     49448\n",
      "weighted avg       1.00      0.75      0.85     49448\n",
      "\n"
     ]
    }
   ],
   "source": [
    "svm = SVC(kernel=\"linear\")\n",
    "svm.fit(X_train, y_train)\n",
    "from sklearn.metrics import classification_report\n",
    "y_pred_svc_2 = svm.predict(X_test)\n",
    "print(classification_report(y_pred_svc_2, y_test))"
   ]
  },
  {
   "cell_type": "markdown",
   "metadata": {
    "id": "VTB_-j5gmtQW"
   },
   "source": [
    "### Noyeau polynomial"
   ]
  },
  {
   "cell_type": "code",
   "execution_count": null,
   "metadata": {
    "colab": {
     "base_uri": "https://localhost:8080/"
    },
    "executionInfo": {
     "elapsed": 674,
     "status": "ok",
     "timestamp": 1620085963911,
     "user": {
      "displayName": "Hadil OKKEZ",
      "photoUrl": "https://lh3.googleusercontent.com/a-/AOh14GhwvV3WNOQWNm7DSeXYzO-e2XSdtsdataGSZ7ChAA=s64",
      "userId": "10458114176938283464"
     },
     "user_tz": -120
    },
    "id": "o8UeKssemtQW",
    "outputId": "20ddbfd6-9eed-4cd1-a46b-8ee695786a65"
   },
   "outputs": [],
   "source": [
    "# Kernel poly\n",
    "svm = SVC(kernel=\"poly\")\n",
    "svm.fit(X_train, y_train)\n",
    "from sklearn.metrics import classification_report\n",
    "y_pred_svc_3 = svm.predict(X_test)\n",
    "print(classification_report(y_pred_svc_3, y_test))"
   ]
  },
  {
   "cell_type": "markdown",
   "metadata": {
    "id": "Z423cCChmtQZ"
   },
   "source": [
    "### Noyeau Sigmoide"
   ]
  },
  {
   "cell_type": "code",
   "execution_count": null,
   "metadata": {
    "colab": {
     "base_uri": "https://localhost:8080/"
    },
    "executionInfo": {
     "elapsed": 1719,
     "status": "ok",
     "timestamp": 1620085969480,
     "user": {
      "displayName": "Hadil OKKEZ",
      "photoUrl": "https://lh3.googleusercontent.com/a-/AOh14GhwvV3WNOQWNm7DSeXYzO-e2XSdtsdataGSZ7ChAA=s64",
      "userId": "10458114176938283464"
     },
     "user_tz": -120
    },
    "id": "6KioomtQmtQa",
    "outputId": "014d3dc1-67d9-46ba-bb72-16bd966a96e0"
   },
   "outputs": [],
   "source": [
    "svm = SVC(kernel=\"sigmoid\")\n",
    "svm.fit(X_train, y_train)\n",
    "from sklearn.metrics import classification_report\n",
    "y_pred_svc_4 = svm.predict(X_test)\n",
    "print(classification_report(y_pred_svc_4, y_test))"
   ]
  },
  {
   "cell_type": "markdown",
   "metadata": {
    "id": "CS9yachTmtQf"
   },
   "source": [
    "### Noyeau Gaussien RBF"
   ]
  },
  {
   "cell_type": "code",
   "execution_count": null,
   "metadata": {
    "colab": {
     "base_uri": "https://localhost:8080/"
    },
    "executionInfo": {
     "elapsed": 598,
     "status": "ok",
     "timestamp": 1620085978454,
     "user": {
      "displayName": "Hadil OKKEZ",
      "photoUrl": "https://lh3.googleusercontent.com/a-/AOh14GhwvV3WNOQWNm7DSeXYzO-e2XSdtsdataGSZ7ChAA=s64",
      "userId": "10458114176938283464"
     },
     "user_tz": -120
    },
    "id": "pMuMkc2DmtQf",
    "outputId": "68bc9b0f-55a2-4bea-ae05-7f1fe6def924"
   },
   "outputs": [],
   "source": [
    "# Kernel rbf (Par défaut)\n",
    "svm = SVC(kernel=\"rbf\")\n",
    "svm.fit(X_train, y_train)\n",
    "from sklearn.metrics import classification_report\n",
    "y_pred = svm.predict(X_test)\n",
    "print(classification_report(y_pred, y_test))"
   ]
  },
  {
   "cell_type": "markdown",
   "metadata": {
    "id": "y9Ns3GNdmtQo"
   },
   "source": [
    "# Comparaison des résultats"
   ]
  },
  {
   "cell_type": "code",
   "execution_count": null,
   "metadata": {
    "colab": {
     "base_uri": "https://localhost:8080/",
     "height": 173
    },
    "executionInfo": {
     "elapsed": 632,
     "status": "ok",
     "timestamp": 1620085997564,
     "user": {
      "displayName": "Hadil OKKEZ",
      "photoUrl": "https://lh3.googleusercontent.com/a-/AOh14GhwvV3WNOQWNm7DSeXYzO-e2XSdtsdataGSZ7ChAA=s64",
      "userId": "10458114176938283464"
     },
     "user_tz": -120
    },
    "id": "Yr39HAgjmtQq",
    "outputId": "c7c03b27-6ba7-4723-f766-79665316b34b"
   },
   "outputs": [],
   "source": [
    "from sklearn.metrics import accuracy_score\n",
    "from sklearn.metrics import recall_score\n",
    "from sklearn.metrics import precision_score\n",
    "from sklearn.metrics import f1_score\n",
    "s1=accuracy_score(y_test, y_pred_svc_1)\n",
    "s2=accuracy_score(y_test, y_pred_svc_2)\n",
    "s3=accuracy_score(y_test, y_pred_svc_3)\n",
    "s4=accuracy_score(y_test, y_pred_svc_4)\n",
    "\n",
    "models = pd.DataFrame({\n",
    "    'Model': ['Support Vector Machines RBF', 'Support Vector Machines Linaire','Support Vector Machines polynomiale',\n",
    "              'Support Vector Machines sigmoïde'],\n",
    "    'Score': [s1,s2, s3, \n",
    "              s4]})\n",
    "models.sort_values(by=\"Score\",ascending=False)"
   ]
  },
  {
   "cell_type": "markdown",
   "metadata": {
    "id": "2qfIPbzmmtQt"
   },
   "source": [
    "### Courbe ROC"
   ]
  },
  {
   "cell_type": "code",
   "execution_count": null,
   "metadata": {
    "colab": {
     "base_uri": "https://localhost:8080/",
     "height": 458
    },
    "executionInfo": {
     "elapsed": 1267,
     "status": "ok",
     "timestamp": 1620086004374,
     "user": {
      "displayName": "Hadil OKKEZ",
      "photoUrl": "https://lh3.googleusercontent.com/a-/AOh14GhwvV3WNOQWNm7DSeXYzO-e2XSdtsdataGSZ7ChAA=s64",
      "userId": "10458114176938283464"
     },
     "user_tz": -120
    },
    "id": "KuTNVkNBmtQu",
    "outputId": "3ee727b0-ca10-4bcd-e393-0fff042be299"
   },
   "outputs": [],
   "source": [
    "from sklearn.metrics import roc_curve, auc\n",
    "fpr1, tpr1, threshold1 = roc_curve(y_test, y_pred_svc_1) \n",
    "roc_auc1 = auc(fpr1, tpr1)\n",
    "fpr2, tpr2, threshold2 = roc_curve(y_test, y_pred_svc_2) \n",
    "roc_auc2 = auc(fpr2, tpr2)\n",
    "fpr3, tpr3, threshold3 = roc_curve(y_test, y_pred_svc_3)\n",
    "roc_auc3 = auc(fpr3, tpr3)\n",
    "fpr4, tpr4, threshold4 = roc_curve(y_test, y_pred_svc_4) \n",
    "roc_auc4 = auc(fpr4, tpr4)\n",
    "plt.figure(figsize=(7,7)) \n",
    "plt.plot(fpr1, tpr1, color='yellow', lw=2, label='Support Vector Machine (area = %0.2f)'% roc_auc1)\n",
    "plt.plot(fpr2, tpr2, color='red', lw=2, label='Random Forest ROC curve (area = %0.2f)'% roc_auc2)\n",
    "plt.plot(fpr3, tpr3, color='cyan', lw=2, label='kNN ROC curve (area = %0.2f)'% roc_auc3)\n",
    "plt.plot(fpr4, tpr4, color='magenta', lw=2, label='Naive Bayes (area = %0.2f)'% roc_auc4)\n",
    "plt.plot([0, 1], [0, 1], color='red', lw=2, linestyle='--') \n",
    "plt.xlim([0.0, 1.0]) \n",
    "pl\"t.ylim([0.0, 1.05]) \n",
    "plt.xlabel('False Positive Rate') \n",
    "plt.ylabel('True Positive Rate') \n",
    "plt.title('Classifiers ROC curves') \n",
    "plt.legend(loc = \"lower right\")\n",
    "plt.show()"
   ]
  },
  {
   "cell_type": "code",
   "execution_count": null,
   "metadata": {},
   "outputs": [],
   "source": [
    "import pickle\n",
    "with open('SVMAZIZ.pkl', 'wb') as file:\n",
    "    pickle.dump(SVM, file)"
   ]
  },
  {
   "cell_type": "code",
   "execution_count": null,
   "metadata": {},
   "outputs": [],
   "source": []
  },
  {
   "cell_type": "code",
   "execution_count": null,
   "metadata": {},
   "outputs": [],
   "source": []
  },
  {
   "cell_type": "code",
   "execution_count": null,
   "metadata": {},
   "outputs": [],
   "source": []
  }
 ],
 "metadata": {
  "colab": {
   "collapsed_sections": [],
   "name": "Atelier_SVM.ipynb",
   "provenance": [],
   "toc_visible": true
  },
  "kernelspec": {
   "display_name": "Python 3 (ipykernel)",
   "language": "python",
   "name": "python3"
  },
  "language_info": {
   "codemirror_mode": {
    "name": "ipython",
    "version": 3
   },
   "file_extension": ".py",
   "mimetype": "text/x-python",
   "name": "python",
   "nbconvert_exporter": "python",
   "pygments_lexer": "ipython3",
   "version": "3.9.7"
  }
 },
 "nbformat": 4,
 "nbformat_minor": 1
}
